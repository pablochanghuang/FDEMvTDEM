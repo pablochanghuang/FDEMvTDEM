{
 "cells": [
  {
   "cell_type": "markdown",
   "metadata": {},
   "source": [
    "\n",
    "# Setup\n"
   ]
  },
  {
   "cell_type": "markdown",
   "metadata": {},
   "source": [
    "## Import Modules\n",
    "\n",
    "\n"
   ]
  },
  {
   "cell_type": "code",
   "execution_count": 1,
   "metadata": {
    "collapsed": false
   },
   "outputs": [],
   "source": [
    "import numpy as np\n",
    "import os\n",
    "from matplotlib import pyplot as plt\n",
    "\n",
    "from simpeg import maps\n",
    "import simpeg.electromagnetics.time_domain as tdem\n",
    "from simpeg.utils import plot_1d_layer_model\n",
    "\n",
    "write_output = False\n",
    "plt.rcParams.update({\"font.size\": 16})\n",
    "\n",
    "# sphinx_gallery_thumbnail_number = 2"
   ]
  },
  {
   "cell_type": "markdown",
   "metadata": {},
   "source": [
    "## Create Survey\n",
    "\n",
    "# FDEM:\n",
    "\n",
    "Measure response in real and imaginary ppm: \n",
    "\n",
    "\"|Hs/Hp| (ppm)\" refers to the normalized amplitude of the secondary magnetic field (Hs) relative to the primary magnetic field (Hp), expressed in parts per million (ppm). \n",
    "\n",
    "Real and Imaginary because of complex subsurface response to electromagnetic fields, with the real part capturing the in-phase resistive properties. \n",
    "\n",
    "The imaginary part represents how the electric and magnetic fields interact with the conductive target over time, including the phase shift introduced by induced currents.\n",
    "\n",
    "\n",
    "**RESOLVE system**\n",
    "frequencies = np.array([400, 1800, 3300, 8200, 40000, 140000], dtype=float)\n",
    "receiver_location = np.array([7.86, 0.0, 30.0])\n",
    "source_location = np.array([0.0, 0.0, 30.0])\n",
    "x,y,z\n",
    "\n",
    "\n",
    "Physical properties: Electrical conductivity Siemens per meter (S/m)\n"
   ]
  },
  {
   "cell_type": "markdown",
   "metadata": {},
   "source": [
    "# TDEM\n",
    "\n",
    "\n",
    "Geotech talk:\n",
    "rx_times = np.logspace(np.log10(2e-5), np.log10(8e-3), 20)\n",
    "diffusion_distance(1./rho_back, rx_times[-1])\n",
    "\n",
    "### Source and receiver locationss:\n",
    "\n",
    "source_location = np.array([0.0, 0.0, 30.0])\n",
    "source_orientation = \"z\"  # \"x\", \"y\" or \"z\"\n",
    "source_current = 1.0  # maximum on-time current\n",
    "source_radius = 6.0  # source loop radius\n",
    "\n",
    "### Receiver properties\n",
    "receiver_location = np.array([0.0, 0.0, 30.0])\n",
    "sources.CircularLoop\n",
    "\n"
   ]
  },
  {
   "cell_type": "markdown",
   "metadata": {},
   "source": [
    "# RMS Calculation\n",
    "\n",
    "1. Calculate the differences in both real and imaginary parts:\n",
    "\\begin{align}\n",
    "\\Delta_\\text{real} &= \\text{Real}_\\text{with layer} - \\text{Real}_\\text{without layer}, \\\\\n",
    "\\Delta_\\text{imag} &= \\text{Imag}_\\text{with layer} - \\text{Imag}_\\text{without layer}.\n",
    "\\end{align}\n",
    "\n",
    "2. Calculate RMS for each:\n",
    "\\begin{align}\n",
    "\\text{RMS}_\\text{real} &= \\sqrt{\\frac{1}{N} \\sum_{i=1}^N \\Delta_{\\text{real}, i}^2}, \\\\\n",
    "\\text{RMS}_\\text{imag} &= \\sqrt{\\frac{1}{N} \\sum_{i=1}^N \\Delta_{\\text{imag}, i}^2},\n",
    "\\end{align}\n",
    "where \\( N \\) is the number of data points.\n",
    "\n",
    "3. Combine Real and Imaginary RMS:\n",
    "\\begin{align}\n",
    "\\text{RMS}_\\text{combined} &= \\sqrt{\\text{RMS}_\\text{real}^2 + \\text{RMS}_\\text{imag}^2}.\n",
    "\\end{align}"
   ]
  }
 ],
 "metadata": {
  "kernelspec": {
   "display_name": "simpeg2024",
   "language": "python",
   "name": "python3"
  },
  "language_info": {
   "codemirror_mode": {
    "name": "ipython",
    "version": 3
   },
   "file_extension": ".py",
   "mimetype": "text/x-python",
   "name": "python",
   "nbconvert_exporter": "python",
   "pygments_lexer": "ipython3",
   "version": "3.10.15"
  }
 },
 "nbformat": 4,
 "nbformat_minor": 0
}
